{
 "cells": [
  {
   "cell_type": "markdown",
   "id": "4e814c06-f882-448c-8972-8fce31f13a62",
   "metadata": {},
   "source": [
    "# Подготовка датафреймов к загрузке в Базу данных (первичная)"
   ]
  },
  {
   "cell_type": "markdown",
   "id": "e6e13ed0-dc36-4950-a7f2-8176f32875e3",
   "metadata": {},
   "source": [
    "## Импорт библиотек и датафреймов"
   ]
  },
  {
   "cell_type": "code",
   "execution_count": 1,
   "id": "557b64c1-a425-4bfd-9da6-1deda326a7b8",
   "metadata": {},
   "outputs": [],
   "source": [
    "import pandas as pd\n",
    "import numpy as np"
   ]
  },
  {
   "cell_type": "code",
   "execution_count": 2,
   "id": "bc2547dc-6a37-43cd-af3d-6343f7e3008a",
   "metadata": {},
   "outputs": [],
   "source": [
    "# импорт csv файлов, которые были подготовлены \n",
    "df_heroes = pd.read_csv('df_heroes.csv')\n",
    "df_matches = pd.read_csv('df_matches.csv')\n",
    "df_players = pd.read_csv('df_players.csv')\n",
    "df_items = pd.read_csv('items.csv')"
   ]
  },
  {
   "cell_type": "markdown",
   "id": "c2235368-671c-4e55-ae0c-ee52e620cdda",
   "metadata": {},
   "source": [
    "## Предобработка данных"
   ]
  },
  {
   "cell_type": "markdown",
   "id": "39c5fba8-950f-48ba-8721-8d047d012974",
   "metadata": {},
   "source": [
    "### Предобработка df_matches, df_players"
   ]
  },
  {
   "cell_type": "code",
   "execution_count": 3,
   "id": "bc111c1b-30f6-4ecd-aaaa-3c017c621cd6",
   "metadata": {},
   "outputs": [],
   "source": [
    "# создадим функцию для нормализации строковых типов данных object\n",
    "def normalize_object(df):\n",
    "    \"\"\" Принимает df, находит колонки 'object', нормализует их\n",
    "    убирает заглавные буквы и пробелы в начале и в конце строк\n",
    "    \"\"\"\n",
    "    for col in df.select_dtypes(include=[\"object\"]):\n",
    "        df[col] = df[col].astype(str).str.strip().str.lower()\n",
    "    return df\n"
   ]
  },
  {
   "cell_type": "code",
   "execution_count": 4,
   "id": "10942259-4020-4c92-85af-25e01103c49f",
   "metadata": {},
   "outputs": [],
   "source": [
    "# Нормализуем строковые типы данных с использованием функции normalize_object(df)\n",
    "df_heroes = normalize_object(df_heroes)\n",
    "df_items = normalize_object(df_items)\n",
    "df_players = normalize_object(df_players)"
   ]
  },
  {
   "cell_type": "code",
   "execution_count": 5,
   "id": "d5083259-dabd-481b-98e2-690364624a77",
   "metadata": {},
   "outputs": [],
   "source": [
    "# Преобразуем необходимые колонки в Int54, bool\n",
    "df_matches['region'] = df_matches['region'].astype('Int64')\n",
    "df_players['steam_id'] = df_players['steam_id'].astype('Int64')\n",
    "df_players['win'] = df_players['win'].astype('bool')"
   ]
  },
  {
   "cell_type": "markdown",
   "id": "93ed0a0d-2c8a-4584-8b1a-8c6c9ea733eb",
   "metadata": {},
   "source": [
    "### Предобработка df_items"
   ]
  },
  {
   "cell_type": "code",
   "execution_count": 6,
   "id": "57cf1803-a70e-4f59-ae4c-9ade10e64c2d",
   "metadata": {},
   "outputs": [],
   "source": [
    "# Преобразуем типы данных в df_items\n",
    "df_items['cost']  = df_items['cost'] .astype('Int64')\n",
    "df_items['bkbpierce'] = df_items['bkbpierce'].astype('bool')"
   ]
  },
  {
   "cell_type": "code",
   "execution_count": 7,
   "id": "fcefbf8c-cfe7-46c1-85bf-80be5f47f60f",
   "metadata": {},
   "outputs": [],
   "source": [
    "# Заменим '[]' на NA в df_items['hint']\n",
    "df_items.loc[df_items['hint'].astype(str).str.strip() == '[]', 'hint'] = pd.NA"
   ]
  },
  {
   "cell_type": "code",
   "execution_count": 8,
   "id": "a351b51a-7022-442f-bd5a-e9873a160782",
   "metadata": {},
   "outputs": [],
   "source": [
    "# приводим mc, hc, cd, charges к int, предварительно заменив false на nA\n",
    "for col in ['mc', 'hc', 'cd', 'charges']:\n",
    "    df_items[col] = pd.to_numeric(\n",
    "        df_items[col].replace(['False', False], pd.NA),\n",
    "        errors='coerce'\n",
    "    ).astype('Int64')"
   ]
  },
  {
   "cell_type": "code",
   "execution_count": null,
   "id": "00072b62-6299-4818-8341-ed311cd11673",
   "metadata": {},
   "outputs": [],
   "source": []
  },
  {
   "cell_type": "markdown",
   "id": "ef61054d-9b58-4db8-8ce8-7e66fa1658df",
   "metadata": {},
   "source": [
    "### Проверка и удаление дубликатов"
   ]
  },
  {
   "cell_type": "code",
   "execution_count": 9,
   "id": "90944ff8-6c0b-467f-b5d7-e81cf51050f0",
   "metadata": {},
   "outputs": [],
   "source": [
    "# удалим дубликаты, если они есть\n",
    "df_matches = df_matches.drop_duplicates(subset=None, keep='first')\n",
    "df_players = df_players.drop_duplicates(subset=[\"match_id\", \"player_slot\"], keep='first').reset_index(drop=True)"
   ]
  },
  {
   "cell_type": "code",
   "execution_count": 10,
   "id": "42b8a8d2-9bfd-4b70-9df6-bf1aeb02e991",
   "metadata": {},
   "outputs": [],
   "source": [
    "# Переименуем колонки, которые будут ключами:\n",
    "df_heroes = df_heroes.rename(columns={\"id\": \"hero_id\"})\n",
    "df_items = df_items.rename(columns={\"id\": \"item_id\"})"
   ]
  },
  {
   "cell_type": "markdown",
   "id": "e2727d1d-585a-4299-a8d3-40223ef6a494",
   "metadata": {},
   "source": [
    "## Подготовка данных из df_players к загрузке в базу данных"
   ]
  },
  {
   "cell_type": "markdown",
   "id": "eeb04e1b-a532-48df-b1ba-7f3c85c40145",
   "metadata": {},
   "source": [
    "Разделим df_players на несколько таблиц:  \n",
    "* player_matches:\n",
    "    * match_id pk(составной), fk\n",
    "    * player_slot pk(составной)\n",
    "    * steam_id\n",
    "    * personaname\n",
    "    * hero_id, fk\n",
    "    * is_radiant\n",
    "    * win\n",
    "* player_stat\n",
    "    * match_id - pk, fk\n",
    "    * player_slot - pk, fk\n",
    "    * kills\n",
    "    * deaths\n",
    "    * assists\n",
    "    * denies\n",
    "    * last_hits\n",
    "    * gold_per_min\n",
    "    * xp_per_min\n",
    "    * hero_damage\n",
    "    * hero_healing\n",
    "    * tower_damage\n",
    "* player_items - для player_items item_0 - n заменим на item_slot, а содержимое заменим на item_id\n",
    "    * match_id - pk, fk\n",
    "    * player_slot - pk, fk\n",
    "    * item_slot - pk \n",
    "    * item_id "
   ]
  },
  {
   "cell_type": "code",
   "execution_count": 11,
   "id": "c957ca96-c08a-4601-b84d-8d1c81d81333",
   "metadata": {},
   "outputs": [],
   "source": [
    "# создадим df_player_matches\n",
    "df_player_matches = df_players[['match_id', 'player_slot', \n",
    "                                'steam_id', 'personaname', 'hero_id', 'is_radiant', 'win']]"
   ]
  },
  {
   "cell_type": "code",
   "execution_count": 12,
   "id": "f93066a6-0d22-4e71-89e9-b445309a2bb0",
   "metadata": {},
   "outputs": [],
   "source": [
    "# создадим df_player_stat\n",
    "df_player_stat = df_players[['match_id', 'player_slot', 'kills', 'deaths', \n",
    "                             'assists', 'denies', 'last_hits', 'gold_per_min', 'xp_per_min', \n",
    "                             'hero_damage', 'hero_healing', 'tower_damage']]\n"
   ]
  },
  {
   "cell_type": "code",
   "execution_count": 13,
   "id": "e848c6d9-3a50-4be7-808d-d4d627255492",
   "metadata": {},
   "outputs": [],
   "source": [
    "# создадим df_player_items \n",
    "df_player_items = df_players[['match_id', 'player_slot','item_0', 'item_1', 'item_2', 'item_3', 'item_4', 'item_5']]\n",
    "\n",
    "# из широкой таблицы сделаем плоскую: slot_col - название столбца, item_id - id предмета\n",
    "df_player_items = df_player_items.melt(\n",
    "                            id_vars = ['match_id', 'player_slot'], \n",
    "                            value_vars = ['item_0', 'item_1','item_2', 'item_3', 'item_4', 'item_5'], \n",
    "                            var_name = 'slot_col', \n",
    "                            value_name='item_id')\n",
    "\n",
    "# создадим столбец, взяв последний элемент строки столбца slot_col \n",
    "df_player_items['item_slot'] = df_player_items['slot_col'].str.slice(-1)\n",
    "\n",
    "# удалим колонку slot_col \n",
    "df_player_items = df_player_items.drop(columns='slot_col')"
   ]
  },
  {
   "cell_type": "code",
   "execution_count": 14,
   "id": "2b4bfb17-88a2-4476-856f-3ce5c9b1d826",
   "metadata": {},
   "outputs": [],
   "source": [
    "# встречается ноль - это остутствующее значение. Необходимо заменить его на nan, чтобы не было ошибки при стыковке таблиц\n",
    "df_player_items['item_id'] = df_player_items['item_id'].replace(0, pd.NA)"
   ]
  },
  {
   "cell_type": "markdown",
   "id": "3c4f5bb4-1f43-472c-89bd-3e272a763d77",
   "metadata": {},
   "source": [
    "## Проверка совпадения внешних ключей"
   ]
  },
  {
   "cell_type": "markdown",
   "id": "da59d148-a48c-4184-84b4-6491be7dd72c",
   "metadata": {},
   "source": [
    "### df_matches - df_player_matches"
   ]
  },
  {
   "cell_type": "code",
   "execution_count": 15,
   "id": "2a2a62c0-fab4-4e7d-864c-dd614661b9a2",
   "metadata": {},
   "outputs": [
    {
     "data": {
      "text/plain": [
       "100"
      ]
     },
     "metadata": {},
     "output_type": "display_data"
    },
    {
     "data": {
      "text/plain": [
       "19353"
      ]
     },
     "metadata": {},
     "output_type": "display_data"
    },
    {
     "data": {
      "text/plain": [
       "19253"
      ]
     },
     "metadata": {},
     "output_type": "display_data"
    }
   ],
   "source": [
    "# проверим совпадение внешних ключей между таблицами df_matches, df_player_matches\n",
    "s1 = set(df_matches['match_id'])\n",
    "s2 = set(df_player_matches[\"match_id\"])\n",
    "matches_and_players = s1 - s2\n",
    "display(len(matches_and_players), len(s1), len(s2))"
   ]
  },
  {
   "cell_type": "code",
   "execution_count": 16,
   "id": "0d4b02df-9536-4f00-bc3f-a63301e38ede",
   "metadata": {},
   "outputs": [
    {
     "data": {
      "text/plain": [
       "100"
      ]
     },
     "metadata": {},
     "output_type": "display_data"
    }
   ],
   "source": [
    "# По какой-то причине часть матчей не прогрузилась\n",
    "missing_matches = df_matches.loc[df_matches[\"match_id\"].isin(matches_and_players)]\n",
    "display(len(missing_matches))"
   ]
  },
  {
   "cell_type": "code",
   "execution_count": 17,
   "id": "5ad20b87-f6eb-4b64-82f0-c9b649e0353e",
   "metadata": {},
   "outputs": [],
   "source": [
    "# Удалим лишние матчи\n",
    "df_matches = df_matches[df_matches[\"match_id\"].isin(df_player_matches[\"match_id\"])]\n"
   ]
  },
  {
   "cell_type": "code",
   "execution_count": 18,
   "id": "6e489fc8-6173-4efa-8b72-385cec04788c",
   "metadata": {},
   "outputs": [
    {
     "data": {
      "text/plain": [
       "True"
      ]
     },
     "execution_count": 18,
     "metadata": {},
     "output_type": "execute_result"
    }
   ],
   "source": [
    "len(set(df_player_matches[\"match_id\"]) - set(df_matches[\"match_id\"])) == 0"
   ]
  },
  {
   "cell_type": "markdown",
   "id": "d0fa3ee5-d4fc-4fee-94f1-87ecde6b0e21",
   "metadata": {},
   "source": [
    "### df_player_matches vs df_player_stat"
   ]
  },
  {
   "cell_type": "code",
   "execution_count": 19,
   "id": "471a00ec-c1e9-488a-8d45-5c16b4bb6cdd",
   "metadata": {},
   "outputs": [
    {
     "data": {
      "text/plain": [
       "0"
      ]
     },
     "metadata": {},
     "output_type": "display_data"
    },
    {
     "data": {
      "text/plain": [
       "192530"
      ]
     },
     "metadata": {},
     "output_type": "display_data"
    },
    {
     "data": {
      "text/plain": [
       "192530"
      ]
     },
     "metadata": {},
     "output_type": "display_data"
    }
   ],
   "source": [
    "# проверим совпадение внешних ключей между таблицами df_player_matches vs df_player_stat\n",
    "s1 = set(df_player_matches[['match_id', 'player_slot']].apply(tuple, axis=1))\n",
    "s2 = set(df_player_stat[['match_id', 'player_slot']].apply(tuple, axis=1))\n",
    "players_and_players_stat= s1 - s2\n",
    "display(len(players_and_players_stat), len(s1), len(s2))"
   ]
  },
  {
   "cell_type": "markdown",
   "id": "33c93c36-a347-4274-acf9-3dc8aff96c2f",
   "metadata": {},
   "source": [
    "### df_player_matches vs df_player_items"
   ]
  },
  {
   "cell_type": "code",
   "execution_count": 20,
   "id": "99f74702-1603-414d-92e5-e53211cb1f3f",
   "metadata": {},
   "outputs": [
    {
     "data": {
      "text/plain": [
       "0"
      ]
     },
     "metadata": {},
     "output_type": "display_data"
    },
    {
     "data": {
      "text/plain": [
       "192530"
      ]
     },
     "metadata": {},
     "output_type": "display_data"
    },
    {
     "data": {
      "text/plain": [
       "192530"
      ]
     },
     "metadata": {},
     "output_type": "display_data"
    }
   ],
   "source": [
    "# проверим совпадение внешних ключей между таблицами df_player_matches vs df_player_items\n",
    "s1 = set(df_player_matches[['match_id', 'player_slot']].apply(tuple, axis=1))\n",
    "s2 = set(df_player_items[['match_id', 'player_slot']].apply(tuple, axis=1))\n",
    "players_and_player_items= s1 - s2\n",
    "display(len(players_and_player_items), len(s1), len(s2))"
   ]
  },
  {
   "cell_type": "markdown",
   "id": "e529e288-a459-4c21-8ed8-752eb8c37ed1",
   "metadata": {},
   "source": [
    "### df_player_matches vs df_hero"
   ]
  },
  {
   "cell_type": "code",
   "execution_count": 21,
   "id": "98d01bd1-4019-4364-8417-d500c56e8da6",
   "metadata": {},
   "outputs": [
    {
     "name": "stdout",
     "output_type": "stream",
     "text": [
      "0\n"
     ]
    }
   ],
   "source": [
    "# создаём множества id героев\n",
    "heroes_in_players = set(df_player_matches['hero_id'].dropna())\n",
    "heroes_in_heroes = set(df_heroes['hero_id'].dropna())\n",
    "\n",
    "# находим героев, которые встречаются в df_player_matches, но отсутствуют в df_hero\n",
    "missing_heroes = heroes_in_players - heroes_in_heroes\n",
    "print(len(missing_heroes))"
   ]
  },
  {
   "cell_type": "markdown",
   "id": "0a9c729f-e32f-4440-937c-1f7eee35f74a",
   "metadata": {},
   "source": [
    "### df_player_items vs df_items"
   ]
  },
  {
   "cell_type": "code",
   "execution_count": 22,
   "id": "db1509f0-bbe1-4cb6-ab6a-6298826e0814",
   "metadata": {},
   "outputs": [
    {
     "name": "stdout",
     "output_type": "stream",
     "text": [
      "0\n"
     ]
    }
   ],
   "source": [
    "# создаём множества id предметов\n",
    "items_in_players = set(df_player_items['item_id'].dropna())\n",
    "items_in_items = set(df_items['item_id'].dropna())\n",
    "\n",
    "# находим предметы, которые встречаются в df_player_items, но отсутствуют в df_items\n",
    "missing_items = items_in_players - items_in_items\n",
    "print(len(missing_items))"
   ]
  },
  {
   "cell_type": "markdown",
   "id": "7c258362-b9c1-496f-aeba-c4c35b46cb27",
   "metadata": {},
   "source": [
    "## Сохраняем готовые датафреймы в csv"
   ]
  },
  {
   "cell_type": "code",
   "execution_count": 23,
   "id": "195b0b38-fce6-478b-9c7c-628b04b0d14b",
   "metadata": {},
   "outputs": [],
   "source": [
    "# сохраним готовые датафреймы в csv\n",
    "df_matches.to_csv(\"matches.csv\", index=False, encoding=\"utf-8\")\n",
    "df_player_matches.to_csv(\"players.csv\", index=False, encoding=\"utf-8\")\n",
    "df_player_stat.to_csv(\"player_stat.csv\", index=False, encoding=\"utf-8\")\n",
    "df_player_items.to_csv(\"player_items.csv\", index=False, encoding=\"utf-8\")\n",
    "df_heroes.to_csv(\"heroes.csv\", index=False, encoding=\"utf-8\")\n",
    "df_items.to_csv(\"items.csv\", index=False, encoding=\"utf-8\")"
   ]
  },
  {
   "cell_type": "code",
   "execution_count": 29,
   "id": "5a75dd93-666a-400e-8083-06ee5b16782e",
   "metadata": {},
   "outputs": [],
   "source": [
    "# Код для проверки дубликатов\n",
    "#dupe_rows = df_player_items.duplicated(subset=[\"match_id\", \"player_slot\", \"item_slot\"], keep=False)\n",
    "#print(\"Rows involved in duplicate keys:\", dupe_rows.sum())"
   ]
  }
 ],
 "metadata": {
  "kernelspec": {
   "display_name": "Python 3 (ipykernel)",
   "language": "python",
   "name": "python3"
  },
  "language_info": {
   "codemirror_mode": {
    "name": "ipython",
    "version": 3
   },
   "file_extension": ".py",
   "mimetype": "text/x-python",
   "name": "python",
   "nbconvert_exporter": "python",
   "pygments_lexer": "ipython3",
   "version": "3.9.23"
  }
 },
 "nbformat": 4,
 "nbformat_minor": 5
}

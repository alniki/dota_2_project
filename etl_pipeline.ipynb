{
 "cells": [
  {
   "cell_type": "markdown",
   "id": "54b92b38-69b7-43a7-ac14-32d591ea9b6d",
   "metadata": {},
   "source": [
    "# Пайплайн для добавления данных в базу данных public с информацией о матчах Дота2"
   ]
  },
  {
   "cell_type": "markdown",
   "id": "6620d4f9-cc1a-4a25-aa54-d7d0dc8948c5",
   "metadata": {},
   "source": [
    "# Импорт библиотек"
   ]
  },
  {
   "cell_type": "code",
   "execution_count": 1,
   "id": "9c47de7f-dbb4-4390-bdd6-e2381213e925",
   "metadata": {},
   "outputs": [],
   "source": [
    "#импорт pandas\n",
    "import pandas as pd\n",
    "\n",
    "import numpy as np\n",
    "\n",
    "#импорт библиотеки requests\n",
    "import requests\n",
    "\n",
    "#импорт библиотеки json\n",
    "import json\n",
    "\n",
    "#импорт библиотеки pprint\n",
    "import pprint\n",
    "\n",
    "import time, os\n",
    "from pathlib import Path\n",
    "\n",
    "# Имопрт библиотеки sqlalchemy\n",
    "from sqlalchemy import create_engine\n",
    "from sqlalchemy import text\n",
    "from sqlalchemy.dialects.postgresql import insert\n",
    "from sqlalchemy import Table, MetaData\n",
    "\n",
    "from dotenv import load_dotenv\n",
    "\n",
    "from datetime import datetime"
   ]
  },
  {
   "cell_type": "markdown",
   "id": "9bcc48e9-ef26-405d-a103-5300b7e33f0f",
   "metadata": {},
   "source": [
    "## Создание подключения к базе данных"
   ]
  },
  {
   "cell_type": "code",
   "execution_count": 2,
   "id": "8015a56b-63eb-46fe-9973-66f73bbd70f8",
   "metadata": {},
   "outputs": [],
   "source": [
    "# Загружаем переменные из supabase.env\n",
    "load_dotenv(dotenv_path=\"supabase.env\")\n",
    "\n",
    "USER = os.getenv(\"user\")\n",
    "PASSWORD = os.getenv(\"password\")\n",
    "HOST = os.getenv(\"host\")\n",
    "PORT = os.getenv(\"port\")\n",
    "DBNAME = os.getenv(\"dbname\")"
   ]
  },
  {
   "cell_type": "code",
   "execution_count": 3,
   "id": "ab2019e9-08ee-4c91-a5cb-5209784c89c4",
   "metadata": {
    "scrolled": true
   },
   "outputs": [
    {
     "name": "stdout",
     "output_type": "stream",
     "text": [
      "Соединение успешное!\n"
     ]
    }
   ],
   "source": [
    "# Создаем подключение\n",
    "DATABASE_URL = f\"postgresql+psycopg2://{USER}:{PASSWORD}@{HOST}:{PORT}/{DBNAME}?sslmode=require\"\n",
    "\n",
    "#Создаем engine\n",
    "engine = create_engine(DATABASE_URL)\n",
    "\n",
    "# Проверяем соединение\n",
    "try:\n",
    "    with engine.connect() as conn:\n",
    "        print(\"Соединение успешное!\")\n",
    "except Exception as e:\n",
    "    print(f\"Соединение не установлено: {e}\")"
   ]
  },
  {
   "cell_type": "markdown",
   "id": "4eb7887f-8e3b-4d9d-ab89-6e6029a5ff9d",
   "metadata": {},
   "source": [
    "## Скачивание данных с opendota"
   ]
  },
  {
   "cell_type": "code",
   "execution_count": 4,
   "id": "deb2e563-0756-41c6-b059-95c9c55483a0",
   "metadata": {},
   "outputs": [],
   "source": [
    "# Задаем переменную c url API \n",
    "API = \"https://api.opendota.com/api\""
   ]
  },
  {
   "cell_type": "code",
   "execution_count": 5,
   "id": "c72d4ab3-c21f-47f5-912b-6174a7e59a92",
   "metadata": {},
   "outputs": [],
   "source": [
    "# Создадим функцию для отправки запросов get\n",
    "def get_json(url, params=None):\n",
    "    \"\"\"функция get_json:\n",
    "    - принимает url\n",
    "    - отправляет запрос get с использованием библиотеки requests\n",
    "    - Возвращает от API json файл \n",
    "    - преобразует json в объект языка Python (словарь или список)\"\"\"\n",
    "    r = requests.get(\n",
    "        url, \n",
    "        params=params or {}, \n",
    "        timeout=30, \n",
    "        headers={\"User-Agent\": \"opendota-ds\"})\n",
    "    r.raise_for_status()\n",
    "    return r.json()"
   ]
  },
  {
   "cell_type": "code",
   "execution_count": 6,
   "id": "adbd0cdc-5928-4d21-9da9-d9d5cad25e94",
   "metadata": {},
   "outputs": [],
   "source": [
    "# Создадим функции для чтения и загрузки данных, а также сохранения памяти прогресса\n",
    "# функции нужны для того,чтобы возобновлять процесс там, где остановлись и не запрашивать лишнее у API\n",
    "def load_json_list(path):\n",
    "    \"\"\"\n",
    "    Функция проверяет, существует ли файл \n",
    "    Если да: открывает JSON и возвращает список матчей\n",
    "    Если нет: возвращает пустой список\n",
    "    \"\"\"\n",
    "    if Path(path).exists():\n",
    "        with open(path, \"r\", encoding=\"utf-8\") as f:\n",
    "            return json.load(f)\n",
    "    return []\n",
    "\n",
    "def save_json_list(path, data_list):\n",
    "    \"\"\"\" Открывает файл на запись и сохраняет туда список (match_ids)\"\"\"\n",
    "    with open(path, \"w\", encoding=\"utf-8\") as f:\n",
    "        json.dump(list(data_list), f, ensure_ascii=False, indent=2)"
   ]
  },
  {
   "cell_type": "markdown",
   "id": "7a3833e4-9ec5-4504-add5-c60cfbae8dbe",
   "metadata": {},
   "source": [
    "Загрузка id открытых матчей:"
   ]
  },
  {
   "cell_type": "code",
   "execution_count": 7,
   "id": "55fea2c4-4e16-435b-976a-280896b323ee",
   "metadata": {},
   "outputs": [
    {
     "name": "stdout",
     "output_type": "stream",
     "text": [
      "Всего скачано матчей: 200 \n",
      " Сохранено в match_ids_parced_2025-10-29.json\n"
     ]
    }
   ],
   "source": [
    "# Зададим текущую дату и название файла, куда будем сохранять сегодняшние матчи\n",
    "today = datetime.today().strftime(\"%Y-%m-%d\")\n",
    "filename = f\"match_ids_parced_{today}.json\"\n",
    "\n",
    "# Загрузим сохраненные id матчей, если сегодня матчи уже сохранялись в файл match_ids_parced_{today}.json\n",
    "if Path(filename).exists():\n",
    "    match_ids_parced = load_json_list(filename)\n",
    "else:\n",
    "    match_ids_parced = []\n",
    "    \n",
    "# зарузка id матчей с использованием метода  GET /publicMatches и учетом пагинации (1 стр - 100 матчей)\n",
    "# сколько страниц хотим загрузить (не более 20 из-за лимита API)\n",
    "pages_public = 1\n",
    "# курсор пагинации, на первой итерации равен None\n",
    "less = None\n",
    "\n",
    "#множество матчей из базы данных\n",
    "matches_in_db = set(pd.read_sql_query(\"SELECT match_id FROM matches\", engine)[\"match_id\"])\n",
    "\n",
    "# проходимся по странице, передаем id матчей. Основной цикл: листаем страницы и собираем ID\n",
    "# less_than_match_id - курсор для перемещения по страницам при пагинации, на первой итерации запрос без параметров, на следующих - просим более старые\n",
    "# batch - одна страница результатов, список из 100 матчей\n",
    "for _ in range(pages_public):\n",
    "    params = {\"less_than_match_id\": less} if less else None\n",
    "    batch = get_json(f\"{API}/publicMatches\", params=params)\n",
    "    if not batch:\n",
    "        break\n",
    "# достаем из ответа только match_id из каждого словаря страницы\n",
    "    ids = [m[\"match_id\"] for m in batch if \"match_id\" in m]\n",
    "    # проверяем match_id в matches_in_db, новый добавляем в match_ids_parced\n",
    "    for m_id in ids:\n",
    "        if m_id not in matches_in_db and m_id not in match_ids_parced: #тут множество заменила на список\n",
    "            match_ids_parced.append(m_id)\n",
    "# обновляем курсор, берем минимальный матч на этой страницы\n",
    "    less = min(ids) if ids else less\n",
    "    time.sleep(1.2)  # условие, чтобы не превысить лимит в 60 запросов на бесплатном доступе\n",
    "\n",
    "# сохраняем список скачанных id матчей в json или обновляем существующий\n",
    "save_json_list(filename, match_ids_parced)\n",
    "# печатаем итоговое количество\n",
    "print(f\"Всего скачано матчей: {len(match_ids_parced)} \\n Сохранено в {filename}\")"
   ]
  },
  {
   "cell_type": "markdown",
   "id": "090a7242-8d79-422b-9e34-c8272eebb2b3",
   "metadata": {},
   "source": [
    "Загрузка данных о матчах"
   ]
  },
  {
   "cell_type": "code",
   "execution_count": 8,
   "id": "99513bc8-d7d2-43c6-b684-9da608f63cfd",
   "metadata": {},
   "outputs": [
    {
     "name": "stdout",
     "output_type": "stream",
     "text": [
      "Добавляем 100 матчей...\n",
      "Всего скачано сегодня: 200\n"
     ]
    }
   ],
   "source": [
    "# скачаем полные карточки матчей для подмножества match_ids_parced\n",
    "\n",
    "# Добавим количество матчей, которые мы ходим скачать за запуск скрипта (200-500)\n",
    "match_count = 100  \n",
    "\n",
    "# открываем файл id скачанных файлов (если нужно начать с этой ячейки)\n",
    "#filename = f\"match_ids_parced_{today}.json\"\n",
    "#match_ids_parced = load_json_list(filename)\n",
    "\n",
    "# Присвоим переменной jsonl_path название файла с основным хранилищем сырых матчей в формате JSONL (каждый матч — отдельная строка JSON)\n",
    "jsonl_path = f\"matches_raw_{today}.jsonl\" \n",
    "path_obj = Path(jsonl_path)\n",
    "\n",
    "# cоздаем файл, если он не существует\n",
    "path_obj.touch(exist_ok=True) \n",
    "\n",
    "# Cоздаем файл, в который будем загружать скачанные данные\n",
    "downloaded_file = f\"downloaded_ids_{today}.json\"\n",
    "\n",
    "if Path(downloaded_file).exists():\n",
    "    downloaded_ids = set(load_json_list(downloaded_file))\n",
    "else:\n",
    "    downloaded_ids = set()\n",
    "\n",
    "# Загружаем файлы, которые не сохранены\n",
    "to_fetch = [m_id for m_id in match_ids_parced if m_id not in downloaded_ids][:match_count]\n",
    "print(f\"Добавляем {len(to_fetch)} матчей...\")\n",
    "\n",
    "# скачиваем /matches/{id} и сразу пишем на диск\n",
    "with open(jsonl_path, \"a\", encoding=\"utf-8\") as f:\n",
    "    for m_id in to_fetch:\n",
    "        try:\n",
    "            url = f\"{API}/matches/{m_id}\"\n",
    "            data = get_json(url)\n",
    "           # записываем сразу построчно информацию о матчах, если что-то упадёт, прогресс не будет утерян\n",
    "            f.write(json.dumps(data, ensure_ascii=False) + \"\\n\")\n",
    "            downloaded_ids.add(m_id)\n",
    "        except requests.HTTPError as e:\n",
    "            # При ошибке 429 (Too Many Requests) повторяем\n",
    "            if e.response is not None and e.response.status_code == 429:\n",
    "                time.sleep(2.0)\n",
    "                try:\n",
    "                    data= get_json(url)\n",
    "                    f.write(json.dumps(data, ensure_ascii=False) + \"\\n\")\n",
    "                    downloaded_ids.add(m_id)\n",
    "                except Exception as ex:\n",
    "                    print(f\"Ошибка загрузки матча {m_id}: {ex}. Пропускаем.\")\n",
    "                    continue\n",
    "        time.sleep(1.2)           \n",
    "# сохраняем актуальный список уже скачанных ID\n",
    "save_json_list(downloaded_file, list(downloaded_ids))\n",
    "print(f\"Всего скачано сегодня: {len(downloaded_ids)}\")"
   ]
  },
  {
   "cell_type": "markdown",
   "id": "534124f3-1f5b-43f9-aabe-d678ff3545a1",
   "metadata": {},
   "source": [
    "## Подготовка датафреймов"
   ]
  },
  {
   "cell_type": "markdown",
   "id": "a68fe74a-2e58-4967-beb8-17e9d32cd9d1",
   "metadata": {},
   "source": [
    "#### Загрузка данных в датафреймы"
   ]
  },
  {
   "cell_type": "code",
   "execution_count": 9,
   "id": "a1082367-0295-40a3-b371-b66f641133ef",
   "metadata": {},
   "outputs": [
    {
     "name": "stdout",
     "output_type": "stream",
     "text": [
      "20925 матчей в базе данных\n"
     ]
    }
   ],
   "source": [
    "# делаем еще раз проверку того, какие матчи уже есть в базе данных\n",
    "matches_in_db = set(pd.read_sql_query(\"SELECT match_id FROM matches\", engine)[\"match_id\"])\n",
    "matches_in_db = set(int(x) for x in matches_in_db if x is not None)\n",
    "print(f\"{len(matches_in_db)} матчей в базе данных\")"
   ]
  },
  {
   "cell_type": "code",
   "execution_count": 10,
   "id": "9230ef0f-7a57-460d-b933-8a20b3c31d07",
   "metadata": {},
   "outputs": [
    {
     "name": "stdout",
     "output_type": "stream",
     "text": [
      "Загружено 100 матчей из JSONL\n"
     ]
    }
   ],
   "source": [
    "# готовим хранилище для raw-данных\n",
    "raw_matches = []\n",
    "\n",
    "# Загружаем матчи из JSONL\n",
    "seen = set()\n",
    "\n",
    "with open(jsonl_path, \"r\", encoding=\"utf-8\") as f:\n",
    "    for line in f:\n",
    "        if not line.strip():\n",
    "            continue\n",
    "        try:\n",
    "            obj = json.loads(line)\n",
    "            m_id = obj.get(\"match_id\")\n",
    "            if m_id is None:\n",
    "                continue\n",
    "            m_id_int = int(m_id)\n",
    "        except Exception:\n",
    "            continue\n",
    "        if (m_id_int in matches_in_db) or m_id_int in seen:\n",
    "            continue\n",
    "        seen.add(m_id_int)\n",
    "        raw_matches.append(obj)\n",
    "\n",
    "print(f\"Загружено {len(raw_matches)} матчей из JSONL\")"
   ]
  },
  {
   "cell_type": "code",
   "execution_count": 11,
   "id": "07a854ee-4228-43eb-aba0-5f02261b12d5",
   "metadata": {},
   "outputs": [],
   "source": [
    "# Создаем датафрейм df_matches\n",
    "\n",
    "df_matches = pd.DataFrame([{\n",
    "    \"match_id\": d.get(\"match_id\"),\n",
    "    \"duration\": d.get(\"duration\"),\n",
    "    \"first_blood_time\": d.get(\"first_blood_time\"),\n",
    "    \"radiant_win\": d.get(\"radiant_win\"),\n",
    "    \"region\": d.get(\"region\"),\n",
    "} for d in raw_matches if isinstance(d, dict)])"
   ]
  },
  {
   "cell_type": "code",
   "execution_count": 12,
   "id": "d6a0f9b2-8195-4bbd-8c9a-7f6db6b422cc",
   "metadata": {},
   "outputs": [],
   "source": [
    "# Создаем датафрейм df_players\n",
    "df_players = pd.DataFrame([\n",
    "    {\n",
    "        \"match_id\": d.get(\"match_id\"),\n",
    "        \"player_slot\": p.get(\"player_slot\"),\n",
    "        \"steam_id\": p.get(\"account_id\"),\n",
    "        \"personaname\": p.get(\"personaname\"),\n",
    "        \"assists\": p.get(\"assists\"),\n",
    "        \"deaths\": p.get(\"deaths\"),\n",
    "        \"denies\": p.get(\"denies\"),\n",
    "        \"gold_per_min\": p.get(\"gold_per_min\"),\n",
    "        \"hero_id\": p.get(\"hero_id\"),\n",
    "        \"item_0\": p.get(\"item_0\"),\n",
    "        \"item_1\": p.get(\"item_1\"),\n",
    "        \"item_2\": p.get(\"item_2\"),\n",
    "        \"item_3\": p.get(\"item_3\"),\n",
    "        \"item_4\": p.get(\"item_4\"),\n",
    "        \"item_5\": p.get(\"item_5\"),\n",
    "        \"kills\": p.get(\"kills\"),\n",
    "        \"xp_per_min\": p.get(\"xp_per_min\"),\n",
    "        \"is_radiant\": p.get(\"isRadiant\"),\n",
    "        \"win\": p.get(\"win\"),\n",
    "        \"last_hits\": p.get(\"last_hits\"),\n",
    "        \"hero_damage\": p.get(\"hero_damage\"),\n",
    "        \"hero_healing\": p.get(\"hero_healing\"),\n",
    "        \"tower_damage\": p.get(\"tower_damage\"),\n",
    "    }\n",
    "    for d in raw_matches if isinstance(d, dict)\n",
    "    for p in d.get(\"players\", [])\n",
    "])\n"
   ]
  },
  {
   "cell_type": "markdown",
   "id": "676213b7-e7d7-499c-80e5-a13798388b74",
   "metadata": {},
   "source": [
    "#### Подготовка датафреймов"
   ]
  },
  {
   "cell_type": "markdown",
   "id": "cad6ca9c-f1d9-4c87-bf0f-2b0f1832065e",
   "metadata": {},
   "source": [
    "##### Предобработка"
   ]
  },
  {
   "cell_type": "code",
   "execution_count": 13,
   "id": "a8be9c8d-65e1-4259-9217-ae2b5098d59d",
   "metadata": {},
   "outputs": [],
   "source": [
    "# создадим функцию для нормализации строковых типов данных object\n",
    "def normalize_object(df):\n",
    "    \"\"\" Принимает df, находит колонки 'object', нормализует их\n",
    "    убирает заглавные буквы и пробелы в начале и в конце строк\n",
    "    \"\"\"\n",
    "    for col in df.select_dtypes(include=[\"object\"]):\n",
    "        df[col] = df[col].astype(str).str.strip().str.lower()\n",
    "    return df"
   ]
  },
  {
   "cell_type": "code",
   "execution_count": 14,
   "id": "9ac00003-faf8-4c14-80e0-0f6e124154c7",
   "metadata": {},
   "outputs": [],
   "source": [
    "# Нормализуем строковые типы данных с использованием функции normalize_object(df)\n",
    "df_players = normalize_object(df_players)"
   ]
  },
  {
   "cell_type": "code",
   "execution_count": 15,
   "id": "80212c2d-7b93-4734-b409-1987d92a3d35",
   "metadata": {},
   "outputs": [],
   "source": [
    "# Преобразуем необходимые колонки в Int54, bool\n",
    "df_matches['region'] = df_matches['region'].astype('Int64')\n",
    "df_players['steam_id'] = df_players['steam_id'].astype('Int64')\n",
    "df_players['win'] = df_players['win'].astype('bool')"
   ]
  },
  {
   "cell_type": "code",
   "execution_count": 16,
   "id": "b1dfc7a8-9ce9-40f0-8b52-b317b57dc7fc",
   "metadata": {},
   "outputs": [],
   "source": [
    "# удалим дубликаты, если они есть\n",
    "df_matches = df_matches.drop_duplicates(subset=None, keep='first')\n",
    "df_players = df_players.drop_duplicates(subset=[\"match_id\", \"player_slot\"], keep='first').reset_index(drop=True)"
   ]
  },
  {
   "cell_type": "markdown",
   "id": "8b5f8f27-407c-4d27-bcdf-1331cd9e4b86",
   "metadata": {},
   "source": [
    "##### Создание таблиц из df_players"
   ]
  },
  {
   "cell_type": "code",
   "execution_count": 17,
   "id": "73ac8040-aefc-4645-befc-83f568e94798",
   "metadata": {},
   "outputs": [],
   "source": [
    "# создадим df_player_matches\n",
    "df_players_matches = df_players[['match_id', 'player_slot', \n",
    "                                'steam_id', 'personaname', 'hero_id', 'is_radiant', 'win']]"
   ]
  },
  {
   "cell_type": "code",
   "execution_count": 18,
   "id": "d1a580ba-1f86-49f0-89e0-8bbaa44fc298",
   "metadata": {},
   "outputs": [],
   "source": [
    "# создадим df_players_stat\n",
    "df_players_stat = df_players[['match_id', 'player_slot', 'kills', 'deaths', \n",
    "                             'assists', 'denies', 'last_hits', 'gold_per_min', 'xp_per_min', \n",
    "                             'hero_damage', 'hero_healing', 'tower_damage']]"
   ]
  },
  {
   "cell_type": "code",
   "execution_count": 19,
   "id": "955a7580-5134-4224-833d-aa44c17cc1ec",
   "metadata": {},
   "outputs": [],
   "source": [
    "# создадим df_players_items \n",
    "df_players_items = df_players[['match_id', 'player_slot','item_0', 'item_1', 'item_2', 'item_3', 'item_4', 'item_5']]\n",
    "\n",
    "# из широкой таблицы сделаем плоскую: slot_col - название столбца, item_id - id предмета\n",
    "df_players_items = df_players_items.melt(\n",
    "                            id_vars = ['match_id', 'player_slot'], \n",
    "                            value_vars = ['item_0', 'item_1','item_2', 'item_3', 'item_4', 'item_5'], \n",
    "                            var_name = 'slot_col', \n",
    "                            value_name='item_id')\n",
    "\n",
    "# создадим столбец, взяв последний элемент строки столбца slot_col \n",
    "df_players_items['item_slot'] = df_players_items['slot_col'].str.slice(-1)\n",
    "\n",
    "# удалим колонку slot_col \n",
    "df_players_items = df_players_items.drop(columns='slot_col')"
   ]
  },
  {
   "cell_type": "code",
   "execution_count": 20,
   "id": "08392f4c-b9ba-40ed-b9f6-46db90c469fe",
   "metadata": {},
   "outputs": [],
   "source": [
    "# встречается ноль - это остутствующее значение. Необходимо заменить его на nan, чтобы не было ошибки при стыковке таблиц\n",
    "df_players_items['item_id'] = df_players_items['item_id'].replace(0, pd.NA)"
   ]
  },
  {
   "cell_type": "code",
   "execution_count": 21,
   "id": "9c332fd2-bb08-4143-9973-0624960c7a74",
   "metadata": {},
   "outputs": [],
   "source": [
    "# поменяем колонки местами для соответствия базе данных\n",
    "df_players_items = df_players_items[[\"match_id\", \"player_slot\", \"item_slot\", \"item_id\"]]"
   ]
  },
  {
   "cell_type": "markdown",
   "id": "5e3bc1dd-1307-43a5-ab52-c3014f913ec3",
   "metadata": {},
   "source": [
    "##### Проверим совпадение внешних ключей"
   ]
  },
  {
   "cell_type": "code",
   "execution_count": 22,
   "id": "f78142f9-a479-47ca-a410-65121272ec79",
   "metadata": {},
   "outputs": [
    {
     "data": {
      "text/plain": [
       "0"
      ]
     },
     "metadata": {},
     "output_type": "display_data"
    },
    {
     "data": {
      "text/plain": [
       "100"
      ]
     },
     "metadata": {},
     "output_type": "display_data"
    },
    {
     "data": {
      "text/plain": [
       "100"
      ]
     },
     "metadata": {},
     "output_type": "display_data"
    }
   ],
   "source": [
    "# проверим совпадение внешних ключей между таблицами df_matches, df_player_matches\n",
    "s1 = set(df_matches['match_id'])\n",
    "s2 = set(df_players_matches[\"match_id\"])\n",
    "matches_and_players = s1 - s2\n",
    "display(len(matches_and_players), len(s1), len(s2))"
   ]
  },
  {
   "cell_type": "code",
   "execution_count": 23,
   "id": "425b244e-407a-4308-a5b0-ea6b4a19a9be",
   "metadata": {},
   "outputs": [],
   "source": [
    "# добавим удаление лишних матчей, если они существуют\n",
    "df_matches = df_matches[df_matches[\"match_id\"].isin(df_players_matches[\"match_id\"])]"
   ]
  },
  {
   "cell_type": "markdown",
   "id": "0caba2da-4b77-4201-bece-5ccefdd907f1",
   "metadata": {},
   "source": [
    "##### Финально преобразуем типы данных для совместимости с загрузкой в базу данных"
   ]
  },
  {
   "cell_type": "code",
   "execution_count": 24,
   "id": "3461cda6-cbc6-4673-9d40-e4cdd63c2a83",
   "metadata": {},
   "outputs": [],
   "source": [
    "# Создадим функцию\n",
    "def convert_df_types(df):\n",
    "    df = df.copy()\n",
    "    for col in df.select_dtypes(include=[\"int64\", \"Int64\", \"float64\", \"bool\"]):\n",
    "        df[col] = df[col].apply(\n",
    "            lambda x: None if x is None else x.item() if isinstance(x, (np.integer, np.floating, np.bool_)) else x\n",
    "        )\n",
    "    return df"
   ]
  },
  {
   "cell_type": "code",
   "execution_count": 25,
   "id": "76aef61a-8360-401e-a5be-d19add9797a7",
   "metadata": {},
   "outputs": [],
   "source": [
    "# Сконвертируем датафреймы\n",
    "df_matches = convert_df_types(df_matches)\n",
    "df_players_matches = convert_df_types(df_players_matches)\n",
    "df_players_stat = convert_df_types(df_players_stat)\n",
    "df_players_items = convert_df_types(df_players_items)"
   ]
  },
  {
   "cell_type": "markdown",
   "id": "3b0de5ae-e26f-47ee-ab3f-cfce8202c0fc",
   "metadata": {},
   "source": [
    "## Загрузка данных в базу данных"
   ]
  },
  {
   "cell_type": "markdown",
   "id": "43fd35bf-4610-480c-a295-cef1da3516e1",
   "metadata": {},
   "source": [
    "### Загрузка данных из датафреймов"
   ]
  },
  {
   "cell_type": "code",
   "execution_count": 26,
   "id": "c5a31eaa-2e93-4c81-8750-9ef6f15b507f",
   "metadata": {},
   "outputs": [],
   "source": [
    "#records = df.where(pd.notnull(df), None).to_dict(orient=\"records\")"
   ]
  },
  {
   "cell_type": "code",
   "execution_count": 27,
   "id": "f5bdb4d0-ea4f-4321-b4dc-1db25d754ebb",
   "metadata": {},
   "outputs": [],
   "source": [
    "def insert_df_to_db(engine, df, table_name, schema=\"public\"):\n",
    "    \"\"\" Отправляет данные из датафрейма напрямую в БД\n",
    "        Параметры:\n",
    "            engine - создан в начале ноутбука\n",
    "            df - датафрейм со скачанными данными\n",
    "            table_name -  название таблицы в БД\n",
    "            schema - название схемы, по умолчанию \"public\"\n",
    "    \"\"\"\n",
    "    # Заменяем pd.NA и numpy.nan на None\n",
    "    df_clean = df.where(pd.notnull(df), None).copy()\n",
    "    records = df_clean.to_dict(orient=\"records\")\n",
    "    metadata = MetaData()\n",
    "    table = Table(table_name, metadata, autoload_with=engine, schema=schema)\n",
    "\n",
    "    stmt = insert(table).values(records)\n",
    "    stmt = stmt.on_conflict_do_nothing()\n",
    "    \n",
    "    with engine.begin() as conn:\n",
    "        result = conn.execute(stmt)\n",
    "        inserted = result.rowcount\n",
    "        \n",
    "    print(f\"Добавлено {inserted} строк в {schema}.{table_name}\")\n",
    "    "
   ]
  },
  {
   "cell_type": "code",
   "execution_count": 28,
   "id": "74c17e4d-6296-4886-91e6-ddc56fc49413",
   "metadata": {},
   "outputs": [
    {
     "name": "stdout",
     "output_type": "stream",
     "text": [
      "Добавлено 100 строк в public.matches\n",
      "Добавлено 1000 строк в public.players\n",
      "Добавлено 1000 строк в public.players_stat\n",
      "Добавлено 6000 строк в public.players_items\n"
     ]
    }
   ],
   "source": [
    "# Загружаем данные\n",
    "insert_df_to_db(engine, df_matches, \"matches\")\n",
    "insert_df_to_db(engine, df_players_matches, \"players\")\n",
    "insert_df_to_db(engine, df_players_stat, \"players_stat\")\n",
    "insert_df_to_db(engine, df_players_items, \"players_items\")"
   ]
  },
  {
   "cell_type": "markdown",
   "id": "38c49702-1042-40c1-bc16-de0bc5001941",
   "metadata": {},
   "source": [
    "### Обновление материализованных представлений"
   ]
  },
  {
   "cell_type": "code",
   "execution_count": 29,
   "id": "7d608587-7609-4601-b24c-f12e22f166e9",
   "metadata": {},
   "outputs": [],
   "source": [
    "# Создаем функцию для обновления MV\n",
    "def refresh_mv(engine, view_name, schema_name):\n",
    "    \"\"\"\n",
    "    Обновить материализованное представление\n",
    "    Параметры:\n",
    "    engine: движок БД\n",
    "    view_name: имя материализованного представления\n",
    "    schema_name: название схемы\n",
    "    \n",
    "    \"\"\"\n",
    "    query_mv = f\"REFRESH MATERIALIZED VIEW {schema_name}.{view_name};\"\n",
    "    with engine.begin() as conn:\n",
    "        conn.execute(text(query_mv))    \n",
    "    print(f\"Материализованное представление {schema_name}.{view_name} обновлено\")"
   ]
  },
  {
   "cell_type": "code",
   "execution_count": 30,
   "id": "1fcef783-9a4b-426e-81f2-256afb8d2769",
   "metadata": {},
   "outputs": [
    {
     "name": "stdout",
     "output_type": "stream",
     "text": [
      "Материализованное представление public.radiant_win_by_duration обновлено\n",
      "Материализованное представление public.win_factors обновлено\n",
      "Материализованное представление public.gmp_winrate обновлено\n",
      "Материализованное представление public.regions_stat обновлено\n",
      "Материализованное представление public.unknown_players обновлено\n",
      "Материализованное представление public.heroes_stat обновлено\n"
     ]
    }
   ],
   "source": [
    "# Вызываем перечень материализованных представлений БД\n",
    "query_mv_check = \"\"\"\n",
    "SELECT schemaname, matviewname\n",
    "FROM pg_matviews;\n",
    "\"\"\"\n",
    "\n",
    "mv = pd.read_sql_query(query_mv_check, engine)\n",
    "mv_list = mv[['schemaname', 'matviewname']].to_dict(orient='records')\n",
    "\n",
    "# Обновим MV\n",
    "for ele in mv_list:\n",
    "    schema = ele['schemaname']\n",
    "    view = ele['matviewname']\n",
    "    try:\n",
    "        refresh_mv(engine, view, schema)\n",
    "    except Exception as e:\n",
    "        print(f\"Ошибка при обновлении {schema}.{view}: {e}\")\n",
    "        "
   ]
  }
 ],
 "metadata": {
  "kernelspec": {
   "display_name": "Python 3 (ipykernel)",
   "language": "python",
   "name": "python3"
  },
  "language_info": {
   "codemirror_mode": {
    "name": "ipython",
    "version": 3
   },
   "file_extension": ".py",
   "mimetype": "text/x-python",
   "name": "python",
   "nbconvert_exporter": "python",
   "pygments_lexer": "ipython3",
   "version": "3.9.23"
  }
 },
 "nbformat": 4,
 "nbformat_minor": 5
}

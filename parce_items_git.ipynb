{
 "cells": [
  {
   "cell_type": "markdown",
   "id": "828fb6c5-5038-4ea8-8d74-ef2f3618bf2e",
   "metadata": {},
   "source": [
    "## Скачаем items, сохраним в файл csv"
   ]
  },
  {
   "cell_type": "code",
   "execution_count": 4,
   "id": "fb11cedf-2ff6-4d25-9721-e109d2a08adf",
   "metadata": {},
   "outputs": [],
   "source": [
    "import pandas as pd\n",
    "import requests\n",
    "import json"
   ]
  },
  {
   "cell_type": "code",
   "execution_count": 8,
   "id": "18220296-e2b6-44a2-a2bc-7b12a21a100d",
   "metadata": {},
   "outputs": [
    {
     "name": "stdout",
     "output_type": "stream",
     "text": [
      "(510, 24)\n"
     ]
    }
   ],
   "source": [
    "URL = \"https://raw.githubusercontent.com/odota/dotaconstants/master/build/items.json\"\n",
    "r = requests.get(URL, timeout=20)\n",
    "r.raise_for_status()\n",
    "items = r.json()\n",
    "\n",
    "df_items = pd.DataFrame.from_dict(items, orient=\"index\")\n",
    "df_items.index.name = \"item_key\"\n",
    "print(df_items.shape)"
   ]
  },
  {
   "cell_type": "code",
   "execution_count": 11,
   "id": "1d43f779-2844-4e01-86eb-12189146aff5",
   "metadata": {},
   "outputs": [],
   "source": [
    "df_items.reset_index().to_csv(\"items.csv\", index=False)"
   ]
  },
  {
   "cell_type": "code",
   "execution_count": null,
   "id": "3a9826d5-16f2-4f6e-b6a4-31c0ea2faa09",
   "metadata": {},
   "outputs": [],
   "source": []
  }
 ],
 "metadata": {
  "kernelspec": {
   "display_name": "Python 3 (ipykernel)",
   "language": "python",
   "name": "python3"
  },
  "language_info": {
   "codemirror_mode": {
    "name": "ipython",
    "version": 3
   },
   "file_extension": ".py",
   "mimetype": "text/x-python",
   "name": "python",
   "nbconvert_exporter": "python",
   "pygments_lexer": "ipython3",
   "version": "3.9.23"
  }
 },
 "nbformat": 4,
 "nbformat_minor": 5
}

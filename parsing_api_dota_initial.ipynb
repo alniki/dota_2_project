{
 "cells": [
  {
   "cell_type": "markdown",
   "id": "97667f18-9ec4-4423-af7c-aee3a926695a",
   "metadata": {},
   "source": [
    "## Подключение к API dota"
   ]
  },
  {
   "cell_type": "markdown",
   "id": "570dcb18-b219-4ede-b3ef-47c0425fa041",
   "metadata": {},
   "source": [
    "### Импорт библиотек и создание функций"
   ]
  },
  {
   "cell_type": "code",
   "execution_count": 1,
   "id": "f5fcd758-2991-43d9-85ce-656ede284d11",
   "metadata": {},
   "outputs": [],
   "source": [
    "#импорт библиотеки requests\n",
    "import requests\n",
    "\n",
    "#импорт библиотеки json\n",
    "import json\n",
    "\n",
    "#импорт библиотеки pprint\n",
    "import pprint\n",
    "\n",
    "#импорт pandas\n",
    "import pandas as pd\n",
    "\n",
    "import time, os\n",
    "from pathlib import Path"
   ]
  },
  {
   "cell_type": "code",
   "execution_count": 2,
   "id": "f276718c-0fba-4a8a-92a9-8a37c8e34423",
   "metadata": {},
   "outputs": [],
   "source": [
    "# Задаем переменную c url API \n",
    "API = \"https://api.opendota.com/api\""
   ]
  },
  {
   "cell_type": "code",
   "execution_count": 6,
   "id": "15fda0fc-426e-4418-b088-80738bbef155",
   "metadata": {},
   "outputs": [],
   "source": [
    "# Создадим функцию для отправки запросов get\n",
    "def get_json(url, params=None):\n",
    "    \"\"\"функция get_json:\n",
    "    - принимает url\n",
    "    - отправляет запрос get с использованием библиотеки requests\n",
    "    - Возвращает от API json файл \n",
    "    - преобразует json в объект языка Python (словарь или список)\"\"\"\n",
    "    r = requests.get(\n",
    "        url, \n",
    "        params=params or {}, \n",
    "        timeout=30, \n",
    "        headers={\"User-Agent\": \"opendota-ds\"})\n",
    "    r.raise_for_status()\n",
    "    return r.json()"
   ]
  },
  {
   "cell_type": "code",
   "execution_count": 7,
   "id": "802c5403-79de-4d36-bf01-194bdad85013",
   "metadata": {},
   "outputs": [],
   "source": [
    "# Создадим функции для чтения и загрузки данных, а также сохранения памяти прогресса\n",
    "# функции нужны для того,чтобы возобновлять процесс там, где остановлись и не запрашивать лишнее у API\n",
    "def load_json_list(path):\n",
    "    \"\"\"\n",
    "    Функция проверяет, существует ли файл \n",
    "    Если да: открывает JSON и возвращает список матчей\n",
    "    Если нет: возвращает пустой список\n",
    "    \"\"\"\n",
    "    if Path(path).exists():\n",
    "        with open(path, \"r\", encoding=\"utf-8\") as f:\n",
    "            return json.load(f)\n",
    "    return []\n",
    "\n",
    "def save_json_list(path, data_list):\n",
    "    \"\"\"\" Открывает файл на запись и сохраняет туда список (match_ids)\"\"\"\n",
    "    with open(path, \"w\", encoding=\"utf-8\") as f:\n",
    "        json.dump(list(data_list), f, ensure_ascii=False, indent=2)"
   ]
  },
  {
   "cell_type": "markdown",
   "id": "22626986-c167-449c-91df-a1750d6d0e36",
   "metadata": {},
   "source": [
    "### Загрузка id открытых матчей"
   ]
  },
  {
   "cell_type": "code",
   "execution_count": 8,
   "id": "f932cc1a-7b0f-44fa-b1ef-50a917ee505a",
   "metadata": {},
   "outputs": [
    {
     "name": "stdout",
     "output_type": "stream",
     "text": [
      "Всего скачано матчей: 20386\n"
     ]
    }
   ],
   "source": [
    "# зарузка данных с использованием метода  GET /publicMatches и учетом пагинации (1 стр - 100 матчей)\n",
    "# сколько страниц хотим загрузить\n",
    "pages_public = 1\n",
    "# файл, где хранится полный список собранных match_id\n",
    "match_ids_file = \"match_ids.json\"\n",
    "\n",
    "# загружаем ранее собранные ID из файла, если он есть, match_ids подхватывает прошлый прогресс\n",
    "# это упорядоченный спискок всех найденных ID\n",
    "match_ids = load_json_list(match_ids_file)\n",
    "\n",
    "# определяем множество для быстрой проверки дублей\n",
    "seen = set(match_ids)\n",
    "\n",
    "# курсор пагинации, на первой итерации равен None\n",
    "less = None\n",
    "\n",
    "# проходимся по странице, передаем id матчей. Основной цикл: листаем страницы и собираем ID\n",
    "# less_than_match_id - курсор для перемещения по страницам при пагинации, на первой итерации запрос без параметров, на следующих - просим более старые\n",
    "# batch - одна страница результатов, список из 100 матчей\n",
    "for _ in range(pages_public):\n",
    "    params = {\"less_than_match_id\": less} if less else None\n",
    "    batch = get_json(f\"{API}/publicMatches\", params=params)\n",
    "    if not batch:\n",
    "        break\n",
    "# достаем из ответа только match_id из каждого словаря страницы\n",
    "    ids = [m[\"match_id\"] for m in batch if \"match_id\" in m]\n",
    "    # проверяем mid в seen, новый добавляем в seen и в match_ids\n",
    "    for mid in ids:\n",
    "        if mid not in seen:\n",
    "            seen.add(mid)\n",
    "            match_ids.append(mid)\n",
    "# обновляем курсор, берем минимальный матч на этой страницы\n",
    "    less = min(ids) if ids else less\n",
    "    time.sleep(1.2)  # условие, чтобы не превысить лимит в 60 запросов на бесплатном доступе\n",
    "\n",
    "# сохраняем обновленный список\n",
    "save_json_list(match_ids_file, match_ids)\n",
    "# печатаем итоговое количество\n",
    "print(f\"Всего скачано матчей: {len(match_ids)}\")\n"
   ]
  },
  {
   "cell_type": "markdown",
   "id": "dccbe559-d76d-4dca-999e-f30cfb17df67",
   "metadata": {},
   "source": [
    "### Скачивание файлов с информацией о матчах"
   ]
  },
  {
   "cell_type": "code",
   "execution_count": 17,
   "id": "e682a8ef-6638-4cdb-9971-e7964f1c60cc",
   "metadata": {
    "scrolled": true
   },
   "outputs": [
    {
     "name": "stdout",
     "output_type": "stream",
     "text": [
      "Добавляем 100 матчей...\n",
      "Всего скачано: 19101\n"
     ]
    }
   ],
   "source": [
    "# скачаем полные карточки матчей для подмножества match_ids и сохраним сырые матчи в файл JSONL\n",
    "# цель: не превышать лимиты бесплатного API\n",
    "# не скачивать 1 матч повторно\n",
    "# не терять прогресс, если сессия обрывается\n",
    "\n",
    "# Добавим количество матчей, которые мы ходим скачать за запуск скрипта (200-500 шт)\n",
    "match_count = 100 \n",
    "# Присвоим переменной downloaded_file название файла со списком match_id, которые уже скачаны\n",
    "downloaded_file = \"downloaded_ids.json\" \n",
    "\n",
    "# Присвоим переменной jsonl_path название файла с основным хранилищем сырых матчей в формате JSONL (каждый матч — отдельная строка JSON)\n",
    "jsonl_path = \"matches_raw.jsonl\" \n",
    "\n",
    "# загружаем уже скачанные match_id с использованием функции load_json_list, превращаем во множество\n",
    "downloaded_ids = set(load_json_list(downloaded_file))\n",
    "\n",
    "# берём только те match_id из списка match_ids, которые еще не скачаны, ограничившись первыми HYDRATE_N\n",
    "to_fetch = [m_id for m_id in match_ids if m_id not in downloaded_ids][:match_count]\n",
    "print(f\"Добавляем {len(to_fetch)} матчей...\")\n",
    "\n",
    "# Проверяем, что существует JSONL-файл на диске (по одной строке на матч), в который пишем матчи построчно\n",
    "Path(jsonl_path).touch(exist_ok=True)\n",
    "\n",
    "\n",
    "# скачиваем /matches/{id} и сразу пишем на диск\n",
    "with open(jsonl_path, \"a\", encoding=\"utf-8\") as f:\n",
    "    for m_id in to_fetch: \n",
    "        try:\n",
    "            url = f\"{API}/matches/{m_id}\"\n",
    "            try:\n",
    "                data = get_json(url)\n",
    "                \n",
    "\n",
    "                \n",
    "            except requests.HTTPError as e:\n",
    "                # При ошибке 429 (Too Many Requests) повторяем\n",
    "                if e.response is not None and e.response.status_code == 429:\n",
    "                    time.sleep(2.0)\n",
    "                    data= get_json(url)  \n",
    "                else:\n",
    "                    raise\n",
    "           # записываем сразу построчно информацию о матчах, если что-то упадёт, прогресс не будет утерян\n",
    "            f.write(json.dumps(data, ensure_ascii=False) + \"\\n\")\n",
    "            downloaded_ids.add(m_id)\n",
    "        except Exception:\n",
    "            raise\n",
    "        time.sleep(1.2)           \n",
    "# сохраняем актуальный список уже скачанных ID\n",
    "save_json_list(downloaded_file, list(downloaded_ids))\n",
    "print(f\"Всего скачано: {len(downloaded_ids)}\")"
   ]
  },
  {
   "cell_type": "code",
   "execution_count": 18,
   "id": "7332d237-44df-422d-8246-54009b24e013",
   "metadata": {},
   "outputs": [
    {
     "name": "stdout",
     "output_type": "stream",
     "text": [
      "Загружено 20107 матчей из JSONL\n"
     ]
    }
   ],
   "source": [
    "# готовим хранилище для raw-данных\n",
    "raw_matches = []\n",
    "\n",
    "# Загружаем матчи из JSONL\n",
    "with open(\"matches_raw.jsonl\", \"r\", encoding=\"utf-8\") as f:\n",
    "    for line in f:\n",
    "        if line.strip():\n",
    "            raw_matches.append(json.loads(line))\n",
    "print(f\"Загружено {len(raw_matches)} матчей из JSONL\")"
   ]
  },
  {
   "cell_type": "markdown",
   "id": "52a254c9-32dc-4ac8-8d85-cc8841a7e029",
   "metadata": {},
   "source": [
    "### Создание датафреймов c информацией о матчах и об игроках и выгрузка из в CSV файлы"
   ]
  },
  {
   "cell_type": "markdown",
   "id": "27b3b219-0e1a-414e-bd5a-403f6e784d60",
   "metadata": {},
   "source": [
    "#### Создание датафрейма df_matches с информацией о матчах"
   ]
  },
  {
   "cell_type": "code",
   "execution_count": 19,
   "id": "335c0f79-3ba5-4b0c-b48e-bf6570f227f7",
   "metadata": {},
   "outputs": [],
   "source": [
    "# Создаем датафрейм df_matches\n",
    "\n",
    "df_matches_new = pd.DataFrame([{\n",
    "    \"match_id\": d.get(\"match_id\"),\n",
    "    \"duration\": d.get(\"duration\"),\n",
    "    \"first_blood_time\": d.get(\"first_blood_time\"),\n",
    "    \"radiant_win\": d.get(\"radiant_win\"),\n",
    "    \"region\": d.get(\"region\"),\n",
    "} for d in raw_matches if isinstance(d, dict)])"
   ]
  },
  {
   "cell_type": "code",
   "execution_count": 20,
   "id": "2846149c-26e3-4651-b0da-1058e608c572",
   "metadata": {
    "scrolled": true
   },
   "outputs": [],
   "source": [
    "# загрузим ранее скачанные матчи, если они существуют\n",
    "matches_path = \"df_matches.csv\"\n",
    "if os.path.exists(matches_path):\n",
    "    df_matches_old = pd.read_csv(matches_path)\n",
    "    df_matches = pd.concat([df_matches_old, df_matches_new], ignore_index=True)\n",
    "    df_matches.drop_duplicates(subset=[\"match_id\"], inplace=True)\n",
    "else:\n",
    "    df_matches = df_matches_new"
   ]
  },
  {
   "cell_type": "code",
   "execution_count": 21,
   "id": "81f86fe9-ca5f-4de6-9daa-ae429fc41e5b",
   "metadata": {},
   "outputs": [
    {
     "name": "stdout",
     "output_type": "stream",
     "text": [
      "Saved 19358 rows to df_matches.csv\n"
     ]
    }
   ],
   "source": [
    "# сохраняем csv\n",
    "df_matches.to_csv(matches_path, index=False)\n",
    "print(f\"Saved {len(df_matches)} rows to df_matches.csv\")"
   ]
  },
  {
   "cell_type": "markdown",
   "id": "5524e797-5d44-47c1-bf4f-01c34e2dd576",
   "metadata": {},
   "source": [
    "#### Создание датафрейма df_players с информацией об игроках"
   ]
  },
  {
   "cell_type": "code",
   "execution_count": 22,
   "id": "2bd8f83e-7820-4ca2-8694-679534e7b1c3",
   "metadata": {},
   "outputs": [],
   "source": [
    "# Создаем датафрейм df_players\n",
    "df_players_new = pd.DataFrame([\n",
    "    {\n",
    "        \"match_id\": d.get(\"match_id\"),\n",
    "        \"player_slot\": p.get(\"player_slot\"),\n",
    "        \"steam_id\": p.get(\"account_id\"),\n",
    "        \"personaname\": p.get(\"personaname\"),\n",
    "        \"assists\": p.get(\"assists\"),\n",
    "        \"deaths\": p.get(\"deaths\"),\n",
    "        \"denies\": p.get(\"denies\"),\n",
    "        \"gold_per_min\": p.get(\"gold_per_min\"),\n",
    "        \"hero_id\": p.get(\"hero_id\"),\n",
    "        \"item_0\": p.get(\"item_0\"),\n",
    "        \"item_1\": p.get(\"item_1\"),\n",
    "        \"item_2\": p.get(\"item_2\"),\n",
    "        \"item_3\": p.get(\"item_3\"),\n",
    "        \"item_4\": p.get(\"item_4\"),\n",
    "        \"item_5\": p.get(\"item_5\"),\n",
    "        \"kills\": p.get(\"kills\"),\n",
    "        \"xp_per_min\": p.get(\"xp_per_min\"),\n",
    "        \"is_radiant\": p.get(\"isRadiant\"),\n",
    "        \"win\": p.get(\"win\"),\n",
    "        \"last_hits\": p.get(\"last_hits\"),\n",
    "        \"hero_damage\": p.get(\"hero_damage\"),\n",
    "        \"hero_healing\": p.get(\"hero_healing\"),\n",
    "        \"tower_damage\": p.get(\"tower_damage\"),\n",
    "    }\n",
    "    for d in raw_matches if isinstance(d, dict)\n",
    "    for p in d.get(\"players\", [])\n",
    "])\n"
   ]
  },
  {
   "cell_type": "code",
   "execution_count": 23,
   "id": "68dc8bea-1a28-4e20-b9f4-f04ceedb2039",
   "metadata": {},
   "outputs": [],
   "source": [
    "# загружаем файл, если он существует или создаем новый\n",
    "players_path = \"df_players.csv\"\n",
    "if os.path.exists(players_path):\n",
    "    df_players_old = pd.read_csv(players_path)\n",
    "    df_players = pd.concat([df_players_old, df_players_new], ignore_index=True)\n",
    "    df_players.drop_duplicates(subset=[\"match_id\", \"player_slot\"], inplace=True)\n",
    "else:\n",
    "    df_players = df_players_new"
   ]
  },
  {
   "cell_type": "code",
   "execution_count": 24,
   "id": "5048f680-c956-4c82-8a45-72df271be123",
   "metadata": {},
   "outputs": [
    {
     "name": "stdout",
     "output_type": "stream",
     "text": [
      "Сохранено 192580 строк в df_players.csv\n"
     ]
    }
   ],
   "source": [
    "# сохраняем csv\n",
    "df_players.to_csv(players_path, index=False)\n",
    "print(f\"Сохранено {len(df_players)} строк в df_players.csv\")"
   ]
  },
  {
   "cell_type": "markdown",
   "id": "0bad9f73-3f89-4b02-be34-d4189996ff5a",
   "metadata": {},
   "source": [
    "## Загрузка информации о героях с сайта Дота"
   ]
  },
  {
   "cell_type": "code",
   "execution_count": 25,
   "id": "9c464508-014f-498e-b9ea-8fb1e9cfdd07",
   "metadata": {},
   "outputs": [],
   "source": [
    "batch_heroes = get_json(f\"{API}/heroStats\")"
   ]
  },
  {
   "cell_type": "code",
   "execution_count": 26,
   "id": "2ed6aea7-d778-4edb-8aeb-53ecb8971910",
   "metadata": {},
   "outputs": [],
   "source": [
    "df_heroes = pd.DataFrame([{\n",
    "    \"id\": h.get(\"id\"),\n",
    "    \"localized_name\": h.get(\"localized_name\"),\n",
    "    \"attack_type\": h.get(\"attack_type\"),\n",
    "    \"primary_attr\": h.get(\"primary_attr\"),\n",
    "    \"roles\": h.get(\"roles\"),\n",
    "    \"base_health\": h.get(\"base_health\"),\n",
    "    \"base_health_regen\": h.get(\"base_health_regen\"),\n",
    "    \"base_mana\": h.get(\"base_mana\"),\n",
    "    \"base_mana_regen\": h.get(\"base_mana_regen\"),\n",
    "    \"base_armor\": h.get(\"base_armor\"),\n",
    "    \"base_mr\": h.get(\"base_mr\"),\n",
    "    \"base_attack_min\": h.get(\"base_attack_min\"),\n",
    "    \"base_attack_max\": h.get(\"base_attack_max\"),\n",
    "    \"base_str\": h.get(\"base_str\"),\n",
    "    \"base_agi\": h.get(\"base_agi\"),\n",
    "    \"base_int\": h.get(\"base_int\"),\n",
    "    \"str_gain\": h.get(\"str_gain\"),\n",
    "    \"agi_gain\": h.get(\"agi_gain\"),\n",
    "    \"int_gain\": h.get(\"int_gain\"),\n",
    "    \"attack_range\": h.get(\"attack_range\"),\n",
    "    \"projectile_speed\": h.get(\"projectile_speed\"),\n",
    "    \"attack_rate\": h.get(\"attack_rate\"),\n",
    "    \"base_attack_time\": h.get(\"base_attack_time\"),\n",
    "    \"attack_point\": h.get(\"attack_point\"),\n",
    "    \"move_speed\": h.get(\"move_speed\"),\n",
    "    \"turn_rate\": h.get(\"turn_rate\"),\n",
    "    \"cm_enabled\": h.get(\"cm_enabled\"),\n",
    "    \"legs\": h.get(\"legs\"),\n",
    "    \"day_vision\": h.get(\"day_vision\"),\n",
    "    \"night_vision\": h.get(\"night_vision\"),\n",
    "} for h in batch_heroes])"
   ]
  },
  {
   "cell_type": "code",
   "execution_count": 27,
   "id": "c4c5bc67-7625-4acd-a1a4-c81e915d6a42",
   "metadata": {},
   "outputs": [],
   "source": [
    "df_heroes.to_csv(\"df_heroes.csv\", index=False, encoding=\"utf-8\")"
   ]
  },
  {
   "cell_type": "code",
   "execution_count": null,
   "id": "cdceb64e-924e-4822-85d1-2cfbbd85bb3b",
   "metadata": {},
   "outputs": [],
   "source": []
  }
 ],
 "metadata": {
  "kernelspec": {
   "display_name": "Python 3 (ipykernel)",
   "language": "python",
   "name": "python3"
  },
  "language_info": {
   "codemirror_mode": {
    "name": "ipython",
    "version": 3
   },
   "file_extension": ".py",
   "mimetype": "text/x-python",
   "name": "python",
   "nbconvert_exporter": "python",
   "pygments_lexer": "ipython3",
   "version": "3.9.23"
  }
 },
 "nbformat": 4,
 "nbformat_minor": 5
}
